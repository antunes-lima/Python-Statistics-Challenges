{
  "nbformat": 4,
  "nbformat_minor": 0,
  "metadata": {
    "colab": {
      "name": "Statistcs Challenges With Python.ipynb",
      "provenance": [],
      "authorship_tag": "ABX9TyMlE+C0JDIhCSNA4UK4p4Hm"
    },
    "kernelspec": {
      "name": "python3",
      "display_name": "Python 3"
    },
    "language_info": {
      "name": "python"
    }
  },
  "cells": [
    {
      "cell_type": "markdown",
      "source": [
        "# Challenges from \"10 Days of Statistics\" on HackerRank.com"
      ],
      "metadata": {
        "id": "dPf15XM8NW4Y"
      }
    },
    {
      "cell_type": "code",
      "source": [
        "from math import erf"
      ],
      "metadata": {
        "id": "NFCGWe8HkVTi"
      },
      "execution_count": null,
      "outputs": []
    },
    {
      "cell_type": "markdown",
      "source": [
        "## Mean, Median and Mode\n",
        "\n",
        "Simple but important values that provides an overview from a given data."
      ],
      "metadata": {
        "id": "6EUBoTX8dgZO"
      }
    },
    {
      "cell_type": "code",
      "execution_count": null,
      "metadata": {
        "id": "0V7pqTtbdUwg"
      },
      "outputs": [],
      "source": [
        "# input data\n",
        "input_data = '64630 11735 14216 99233 14470 4978 73429 38120 51135 67060 67060'"
      ]
    },
    {
      "cell_type": "code",
      "source": [
        "# splitting data into a list, and converting each to float type\n",
        "input_list = input_data.split()\n",
        "input_list = [ float(i) for i in input_list ]\n",
        "input_list = sorted(input_list)"
      ],
      "metadata": {
        "id": "agjg-9QkeNKK"
      },
      "execution_count": null,
      "outputs": []
    },
    {
      "cell_type": "code",
      "source": [
        "# defining a mean function\n",
        "def mean(given_data):\n",
        "  mean = 0\n",
        "  for c in range( len(given_data) ):\n",
        "    mean += given_data[c]\n",
        "  mean /= len(given_data)\n",
        "  return mean"
      ],
      "metadata": {
        "id": "kmsg9shogxug"
      },
      "execution_count": null,
      "outputs": []
    },
    {
      "cell_type": "code",
      "source": [
        "# defining a median function\n",
        "def median(given_data):\n",
        "  median = 0\n",
        "  if len(given_data) % 2 != 0:\n",
        "    median = given_data[int(( len(given_data) - 1) / 2)]\n",
        "  else:\n",
        "    median = ( given_data[int(( len(given_data) - 1) / 2)] + given_data[int( len(given_data) / 2)] ) / 2\n",
        "  return median"
      ],
      "metadata": {
        "id": "voyEvKamhTWA"
      },
      "execution_count": null,
      "outputs": []
    },
    {
      "cell_type": "code",
      "source": [
        "# defining a mode function\n",
        "# returns a list of 3 values:\n",
        "#   - mode: if existent, else returns 'null'\n",
        "#   - mode_counter: how many times the mode repeats on the set, 'null' if there is no mode\n",
        "#   - mode_multi: 1 if there is a mode, more than 1 if there are multiple modes, otherwise 'null'\n",
        "def mode(given_data):\n",
        "  mode = given_data[0]\n",
        "  mode_counter = given_data.count(given_data[0])\n",
        "  mode_multi = 1\n",
        "  for c in range(1, len(given_data) ):\n",
        "    if given_data.count(given_data[c]) > mode_counter:\n",
        "      mode = given_data[c]\n",
        "      mode_counter = given_data.count(given_data[c])\n",
        "      mode_multi = 1\n",
        "    elif given_data.count(given_data[c]) == mode_counter:\n",
        "      mode_multi += 1\n",
        "  if mode_counter == 1:\n",
        "    mode = '--null--'\n",
        "    mode_counter = '--null--'\n",
        "    mode_multi = '--null--'\n",
        "  else:\n",
        "    mode_multi = int(mode_multi ** 0.5)\n",
        "    if mode_multi > 1:\n",
        "      mode = '--multiple--'\n",
        "  return [mode, mode_counter, mode_multi]"
      ],
      "metadata": {
        "id": "-WCnXMYCjAZx"
      },
      "execution_count": null,
      "outputs": []
    },
    {
      "cell_type": "code",
      "source": [
        "print('Mean is equal to {}'.format( round( mean(input_list), 1)))\n",
        "print('Median is equal to {}'.format( round( median(input_list), 1)))\n",
        "mode_info = mode(input_list)\n",
        "print('There is(are) {} mode(s). Mode is equal to {} and this value repeats {} times'.format(mode_info[2], mode_info[0], mode_info[1]))"
      ],
      "metadata": {
        "colab": {
          "base_uri": "https://localhost:8080/"
        },
        "id": "JoLCICmJpOzT",
        "outputId": "f49d818c-ed13-4e8f-dba2-a3f08a14d48f"
      },
      "execution_count": null,
      "outputs": [
        {
          "output_type": "stream",
          "name": "stdout",
          "text": [
            "Mean is equal to 46006.0\n",
            "Median is equal to 51135.0\n",
            "There is(are) 1 mode(s). Mode is equal to 67060.0 and this value repeats 2 times\n"
          ]
        }
      ]
    },
    {
      "cell_type": "markdown",
      "source": [
        "## Weighted Mean\n",
        "\n",
        "When some values contribute more than others on the calculus of the average."
      ],
      "metadata": {
        "id": "X4F-H0g3x5Le"
      }
    },
    {
      "cell_type": "code",
      "source": [
        "def weighted_mean(X, W):\n",
        "  wm1 = wm2 = 0\n",
        "  for c in range ( len( X )):\n",
        "    wm1 += X[c] * W[c]\n",
        "    wm2 += W[c]\n",
        "  return ( wm1 / wm2 )"
      ],
      "metadata": {
        "id": "gcu8DkJcx4sO"
      },
      "execution_count": null,
      "outputs": []
    },
    {
      "cell_type": "code",
      "source": [
        "X = [10, 40, 30, 50, 20]\n",
        "W = [1, 2, 3, 4, 5]\n",
        "print('The weighted mean for this data is equal to {}'.format( round( weighted_mean(X, W) , 1) ))"
      ],
      "metadata": {
        "colab": {
          "base_uri": "https://localhost:8080/"
        },
        "id": "-Kq87GVjybZ9",
        "outputId": "e5d277ab-2013-4033-fb45-640a44b571c2"
      },
      "execution_count": null,
      "outputs": [
        {
          "output_type": "stream",
          "name": "stdout",
          "text": [
            "The weighted mean for this data is equal to 32.0\n"
          ]
        }
      ]
    },
    {
      "cell_type": "markdown",
      "source": [
        "## Standard Deviation\n",
        "\n",
        "A measure of the amount of dispersion on the values."
      ],
      "metadata": {
        "id": "iZcKHV9WzyZ6"
      }
    },
    {
      "cell_type": "code",
      "source": [
        "def stdDev(arr):\n",
        "  mean = sum(arr)/len(arr)\n",
        "  var = 0\n",
        "  for c in range( len(arr) ):\n",
        "    var += (arr[c] - mean) ** 2\n",
        "  var /= len(arr)\n",
        "  return ( var**0.5 )"
      ],
      "metadata": {
        "id": "vSiifcGQz2Bs"
      },
      "execution_count": null,
      "outputs": []
    },
    {
      "cell_type": "code",
      "source": [
        "devi = stdDev(input_list)\n",
        "\n",
        "print('Standard deviation is equal to {}'.format( round(devi, 1) ))"
      ],
      "metadata": {
        "colab": {
          "base_uri": "https://localhost:8080/"
        },
        "id": "4S3E0A1n0bek",
        "outputId": "18711faf-021a-4245-880f-a5fe1919f720"
      },
      "execution_count": null,
      "outputs": [
        {
          "output_type": "stream",
          "name": "stdout",
          "text": [
            "Standard deviation is equal to 29802.3\n"
          ]
        }
      ]
    },
    {
      "cell_type": "markdown",
      "source": [
        "## Assuming a normal distribution, finding the % of the data that is:\n",
        "\n",
        "*   Higher than 30,000\n",
        "*   Higher than 40,000\n",
        "*   Higher than 50,000"
      ],
      "metadata": {
        "id": "qYZXJ9TjjXTb"
      }
    },
    {
      "cell_type": "code",
      "source": [
        "higher_30 = 1 - (1 + erf((30000 - mean(input_list) )/( stdDev(input_list) * (2**0.5)))) * 0.5\n",
        "higher_40 = 1 - (1 + erf((40000 - mean(input_list) )/( stdDev(input_list) * (2**0.5)))) * 0.5\n",
        "higher_50 = 1 - (1 + erf((50000 - mean(input_list) )/( stdDev(input_list) * (2**0.5)))) * 0.5\n",
        "\n",
        "print('{}% of the data is higher than 30,000'.format( round(higher_30 * 100, 2) ))\n",
        "print('{}% of the data is higher than 40,000'.format( round(higher_40 * 100, 2) ))\n",
        "print('{}% of the data is higher than 50,000'.format( round(higher_50 * 100, 2) ))"
      ],
      "metadata": {
        "colab": {
          "base_uri": "https://localhost:8080/"
        },
        "id": "0bzp_MPbjzMu",
        "outputId": "c5122e0a-5da0-4b61-b835-1557c3d641ad"
      },
      "execution_count": null,
      "outputs": [
        {
          "output_type": "stream",
          "name": "stdout",
          "text": [
            "70.44% of the data is higher than 30,000\n",
            "57.99% of the data is higher than 40,000\n",
            "44.67% of the data is higher than 50,000\n"
          ]
        }
      ]
    },
    {
      "cell_type": "markdown",
      "source": [
        "## Covariance\n",
        "\n",
        "A measure of the joint variability of two variables."
      ],
      "metadata": {
        "id": "UdHheGbzn-Wz"
      }
    },
    {
      "cell_type": "code",
      "source": [
        "def covariance(data_a, data_y):\n",
        "  n = len(data_a)\n",
        "  mean_a = mean_b = 0\n",
        "  for c in range(n):\n",
        "    mean_a += data_a[c]\n",
        "    mean_b += data_b[c]\n",
        "  mean_a /= n\n",
        "  mean_b /= n\n",
        "  sum = 0\n",
        "  for c in range(n):\n",
        "    sum += (data_a[c] - mean_a) * (data_b[c] - mean_b)\n",
        "  cov = sum / n\n",
        "  return cov"
      ],
      "metadata": {
        "id": "CwRodMk0n_lY"
      },
      "execution_count": null,
      "outputs": []
    },
    {
      "cell_type": "code",
      "source": [
        "data_a = [10, 9.8, 8, 7.8, 7.7, 7, 6, 5, 4, 2]\n",
        "data_b = [200, 44, 32, 24, 22, 17, 15, 12, 8, 4]\n",
        "\n",
        "print('Covariance is equal to {}'.format( round( covariance(data_a, data_b), 1) ))"
      ],
      "metadata": {
        "colab": {
          "base_uri": "https://localhost:8080/"
        },
        "id": "blaAs_XXoNVw",
        "outputId": "b5578847-a54d-4c3a-e31d-efd0599a4c20"
      },
      "execution_count": null,
      "outputs": [
        {
          "output_type": "stream",
          "name": "stdout",
          "text": [
            "Covariance is equal to 80.9\n"
          ]
        }
      ]
    },
    {
      "cell_type": "markdown",
      "source": [
        "## Pearson correlation coefficient\n",
        "\n",
        "A measure of a linear correlation between to sets of data.\n",
        "It has a value that ranges from -1 and +1, where 1 represent a perfect correlation, -1 a perfect negative correlation, and 0 represents no correlation at all."
      ],
      "metadata": {
        "id": "rbbdWYUolnn_"
      }
    },
    {
      "cell_type": "code",
      "source": [
        "def pearson(data_a, data_y):\n",
        "  n = len(data_a)\n",
        "  mean_a = mean_b = 0\n",
        "  for c in range(n):\n",
        "    mean_a += data_a[c]\n",
        "    mean_b += data_b[c]\n",
        "  mean_a /= n\n",
        "  mean_b /= n\n",
        "  sum = 0\n",
        "  for c in range(n):\n",
        "    sum += (data_a[c] - mean_a) * (data_b[c] - mean_b)\n",
        "  cov = sum / n\n",
        "  devi_a = devi_b = 0\n",
        "  for c in range(n):\n",
        "    devi_a += (data_a[c] - mean_a)**2\n",
        "    devi_b += (data_b[c] - mean_b)**2\n",
        "  devi_a = (devi_a / n)**0.5\n",
        "  devi_b = (devi_b / n)**0.5\n",
        "  p = cov / (devi_a * devi_b)\n",
        "  return p"
      ],
      "metadata": {
        "id": "dAeVTppPlui7"
      },
      "execution_count": null,
      "outputs": []
    },
    {
      "cell_type": "code",
      "source": [
        "data_a = [10, 9.8, 8, 7.8, 7.7, 1.7, 6, 5, 1.4, 2]\n",
        "data_b = [200, 44, 32, 24, 22, 17, 15, 12, 8, 4]\n",
        "\n",
        "print('The Pearson Correlation Coeficient is equal to {}'.format( round( pearson(data_a, data_b) , 3) ))"
      ],
      "metadata": {
        "colab": {
          "base_uri": "https://localhost:8080/"
        },
        "id": "AtGVbwX2nIH2",
        "outputId": "84a47242-1b33-44ab-bb7d-c8513870c97f"
      },
      "execution_count": null,
      "outputs": [
        {
          "output_type": "stream",
          "name": "stdout",
          "text": [
            "The Pearson Correlation Coeficient is equal to 0.579\n"
          ]
        }
      ]
    },
    {
      "cell_type": "markdown",
      "source": [
        "## Spearman's Rank Correlation\n",
        "\n",
        "A measure of a rank correlation between two variables. Defines how well the relationship of the two variables can be described with a monotonic function, whether it is linear or not. "
      ],
      "metadata": {
        "id": "juBXW1vJuJ4W"
      }
    },
    {
      "cell_type": "code",
      "source": [
        "def spearman(data_a, data_b):\n",
        "  n = len(data_a)\n",
        "  rank_a = dict((x, i+1) for i, x in enumerate( sorted( set(data_a) )))\n",
        "  rank_b = dict((y, i+1) for i, y in enumerate( sorted( set(data_b) )))\n",
        "  rank_a = [rank_a[x] for x in data_a]\n",
        "  rank_b = [rank_b[y] for y in data_b]\n",
        "  s = 0\n",
        "  if max(rank_a) == n and max(rank_b) == n:\n",
        "    for c in range(n):\n",
        "      s += (rank_a[c] - rank_b[c])**2\n",
        "    spearman = 1 - ((6*s) / (n*(n**2 - 1)))\n",
        "  else:\n",
        "    mean_a = sum(rank_a) / n\n",
        "    mean_b = sum(rank_b) / n\n",
        "    devi_a = devi_b = 0\n",
        "    for c in range(n):\n",
        "        devi_a += (rank_a[c] - mean_a)**2\n",
        "        devi_b += (rank_b[c] - mean_b)**2\n",
        "    devi_a = (devi_a / n)**0.5\n",
        "    devi_b = (devi_b / n)**0.5\n",
        "    s = 0\n",
        "    for c in range(n):\n",
        "        s += (rank_a - mean_a) * (rank_b - mean_b)\n",
        "    cov = s / n\n",
        "    spearman = cov / (devi_a * devi_b)\n",
        "  return spearman"
      ],
      "metadata": {
        "id": "HCot9QuBuOUK"
      },
      "execution_count": null,
      "outputs": []
    },
    {
      "cell_type": "code",
      "source": [
        "data_a = [10, 9.8, 8, 7.8, 7.7, 1.7, 6, 5, 1.4, 2]\n",
        "data_b = [200, 44, 32, 24, 22, 17, 15, 12, 8, 4]\n",
        "\n",
        "print(\"The Spearman's Rank correlation coeficient is equal to {}\".format( round( spearman(data_a, data_b) , 3) ))"
      ],
      "metadata": {
        "colab": {
          "base_uri": "https://localhost:8080/"
        },
        "id": "MfP95egywqFf",
        "outputId": "744f24eb-1308-4408-d1e3-963254d18f08"
      },
      "execution_count": null,
      "outputs": [
        {
          "output_type": "stream",
          "name": "stdout",
          "text": [
            "The Spearman's Rank correlation coeficient is equal to 0.903\n"
          ]
        }
      ]
    }
  ]
}